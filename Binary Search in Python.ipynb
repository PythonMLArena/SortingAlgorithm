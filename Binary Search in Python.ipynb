{
 "cells": [
  {
   "cell_type": "code",
   "execution_count": 1,
   "id": "876bd921",
   "metadata": {},
   "outputs": [],
   "source": [
    "# Binary Search"
   ]
  },
  {
   "cell_type": "code",
   "execution_count": 2,
   "id": "59b4435a",
   "metadata": {},
   "outputs": [],
   "source": [
    "# make list sorted\n",
    "#low+ high//2\n",
    "# 1. Find out the Middle element in a Sorted List\n",
    "# 2. Compare key with middle element \n",
    "# 3. if Key matches with the middle element and Print the message the stop\n",
    "# 4. else if key is greater than the middle element then key searched in right sublist then step 1\n",
    "# 5. if key is smaller then the middle element \"key \" searched in the left sublist and start 1\n",
    "# else print key is found"
   ]
  },
  {
   "cell_type": "code",
   "execution_count": 3,
   "id": "0957cf9e",
   "metadata": {},
   "outputs": [
    {
     "name": "stdout",
     "output_type": "stream",
     "text": [
      "Give us the Input to search3\n"
     ]
    }
   ],
   "source": [
    "k=[23,1,4,2,3]\n",
    "k.sort()\n",
    "m=int(input(\"Give us the Input to search\"))\n",
    "\n",
    "    "
   ]
  },
  {
   "cell_type": "code",
   "execution_count": 15,
   "id": "40506a1d",
   "metadata": {},
   "outputs": [],
   "source": [
    "def binarysearch(list1,key):\n",
    "    Found=False\n",
    "    low=0\n",
    "    high=len(list1)-1\n",
    "    \n",
    "    while low<=high and not Found: # if Found == True then loop will end\n",
    "        mid=(low+high)//2\n",
    "        if key==list1[mid]:\n",
    "            Found=True\n",
    "        elif key>list1[mid]:\n",
    "            low=mid+1\n",
    "        else:\n",
    "            high=mid-1\n",
    "    if Found==True:\n",
    "        print(\"Key is Found\")\n",
    "    else:\n",
    "        print(\"Key is Not Found\")\n",
    "    "
   ]
  },
  {
   "cell_type": "code",
   "execution_count": 16,
   "id": "2497cef9",
   "metadata": {},
   "outputs": [
    {
     "name": "stdout",
     "output_type": "stream",
     "text": [
      "Key is Not Found\n"
     ]
    }
   ],
   "source": [
    "binarysearch(k,15)"
   ]
  },
  {
   "cell_type": "code",
   "execution_count": null,
   "id": "77c76c8d",
   "metadata": {},
   "outputs": [],
   "source": []
  },
  {
   "cell_type": "code",
   "execution_count": null,
   "id": "836091ec",
   "metadata": {},
   "outputs": [],
   "source": []
  }
 ],
 "metadata": {
  "kernelspec": {
   "display_name": "Python 3 (ipykernel)",
   "language": "python",
   "name": "python3"
  },
  "language_info": {
   "codemirror_mode": {
    "name": "ipython",
    "version": 3
   },
   "file_extension": ".py",
   "mimetype": "text/x-python",
   "name": "python",
   "nbconvert_exporter": "python",
   "pygments_lexer": "ipython3",
   "version": "3.8.12"
  }
 },
 "nbformat": 4,
 "nbformat_minor": 5
}
