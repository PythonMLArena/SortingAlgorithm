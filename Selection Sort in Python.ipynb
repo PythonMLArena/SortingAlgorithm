{
 "cells": [
  {
   "cell_type": "markdown",
   "id": "88b27854",
   "metadata": {},
   "source": [
    "## Selection Sort Algorithm \n",
    "### Inplace and Comparision Based"
   ]
  },
  {
   "cell_type": "markdown",
   "id": "4f0c51ae",
   "metadata": {},
   "source": [
    "#### 1. start from first element search for smallest/biggest element in the elements\n",
    "#### 2. swap minimum.maximum number with first element \n",
    "#### 3. Take sublist(ignore the sorted part and repeat 1,2 until element get sorted\n"
   ]
  },
  {
   "cell_type": "code",
   "execution_count": 5,
   "id": "a40ed987",
   "metadata": {},
   "outputs": [
    {
     "name": "stdout",
     "output_type": "stream",
     "text": [
      "[56, 3, 2, 78, 6, 0]\n"
     ]
    },
    {
     "data": {
      "text/plain": [
       "[0, 3, 2, 78, 6, 56]"
      ]
     },
     "execution_count": 5,
     "metadata": {},
     "output_type": "execute_result"
    }
   ],
   "source": [
    "klist=[56,3,2,78,6,0]\n",
    "print(klist)\n",
    "minval=min(klist)\n",
    "min_index=klist.index(minval)\n",
    "klist[0],klist[min_index]=klist[min_index],klist[0]\n",
    "klist"
   ]
  },
  {
   "cell_type": "code",
   "execution_count": 6,
   "id": "7b0737be",
   "metadata": {},
   "outputs": [
    {
     "name": "stdout",
     "output_type": "stream",
     "text": [
      "[56, 3, 2, 78, 6, 0]\n",
      "[0, 2, 3, 6, 56, 78]\n"
     ]
    }
   ],
   "source": [
    "klist=[56,3,2,78,6,0]\n",
    "print(klist)\n",
    "for i in range(len(klist)):\n",
    "    minval=min(klist[i:])\n",
    "    min_index=klist.index(minval)\n",
    "    klist[i],klist[min_index]=klist[min_index],klist[i]\n",
    "print(klist)"
   ]
  },
  {
   "cell_type": "code",
   "execution_count": 7,
   "id": "181635c9",
   "metadata": {},
   "outputs": [
    {
     "name": "stdout",
     "output_type": "stream",
     "text": [
      "[56, 3, 2, 78, 6, 0]\n",
      "[78, 56, 6, 3, 2, 0]\n"
     ]
    }
   ],
   "source": [
    "klist=[56,3,2,78,6,0]\n",
    "print(klist)\n",
    "for i in range(len(klist)):\n",
    "    minval=max(klist[i:])\n",
    "    min_index=klist.index(minval)\n",
    "    klist[i],klist[min_index]=klist[min_index],klist[i]\n",
    "print(klist)"
   ]
  },
  {
   "cell_type": "code",
   "execution_count": 13,
   "id": "6ef3f1c0",
   "metadata": {},
   "outputs": [
    {
     "name": "stdout",
     "output_type": "stream",
     "text": [
      "[56, 3, 2, 78, 6, 6, 43, 89, 3, 0]\n",
      "[0, 2, 3, 3, 6, 6, 43, 56, 78, 89]\n"
     ]
    }
   ],
   "source": [
    "klist=[56,3,2,78,6,6,43,89,3,0]\n",
    "print(klist)\n",
    "for i in range(len(klist)):\n",
    "    minval=klist[i]\n",
    "    for j in range(i+1,len(klist)):#code to find out min in list\n",
    "        if klist[j]<minval:\n",
    "            minval=klist[j]\n",
    "    min_index=klist.index(minval,i)\n",
    "    klist[i],klist[min_index]=klist[min_index],klist[i]\n",
    "print(klist)"
   ]
  },
  {
   "cell_type": "code",
   "execution_count": 14,
   "id": "dbf8f014",
   "metadata": {},
   "outputs": [
    {
     "name": "stdout",
     "output_type": "stream",
     "text": [
      "[56, 3, 2, 78, 6, 6, 43, 89, 3, 0]\n",
      "[89, 78, 56, 43, 6, 6, 3, 3, 2, 0]\n"
     ]
    }
   ],
   "source": [
    "klist=[56,3,2,78,6,6,43,89,3,0]\n",
    "print(klist)\n",
    "for i in range(len(klist)):\n",
    "    minval=klist[i]\n",
    "    for j in range(i+1,len(klist)):#code to find out max in list\n",
    "        if klist[j]>minval:\n",
    "            minval=klist[j]\n",
    "    min_index=klist.index(minval,i)\n",
    "    klist[i],klist[min_index]=klist[min_index],klist[i]\n",
    "print(klist)"
   ]
  },
  {
   "cell_type": "code",
   "execution_count": 28,
   "id": "96ff6cfd",
   "metadata": {},
   "outputs": [
    {
     "name": "stdout",
     "output_type": "stream",
     "text": [
      "[34, 5, 6, 81, 0, 5]\n",
      "[0, 5, 5, 6, 34, 81]\n"
     ]
    }
   ],
   "source": [
    "klist=[34,5,6,81,0,5]\n",
    "print(klist)\n",
    "for i in range(len(klist)):\n",
    "    min_index=i\n",
    "    for j in range(i+1,len(klist)):#code to find out min in list\n",
    "        if klist[j]<klist[min_index]:\n",
    "            min_index=j\n",
    "    klist[i],klist[min_index]=klist[min_index],klist[i]\n",
    "print(klist)"
   ]
  },
  {
   "cell_type": "code",
   "execution_count": 30,
   "id": "77561d5e",
   "metadata": {},
   "outputs": [
    {
     "name": "stdout",
     "output_type": "stream",
     "text": [
      "Hoe many numbers u want to enter:2\n",
      "21\n",
      "34\n",
      "[21, 34]\n",
      "[21, 34]\n"
     ]
    }
   ],
   "source": [
    "nums=int(input(\"Hoe many numbers u want to enter:\"))\n",
    "klist=[int(input()) for x in range(nums)]\n",
    "print(klist)\n",
    "#klist=[34,5,6,81,0,5]\n",
    "for i in range(len(klist)):\n",
    "    min_index=i\n",
    "    for j in range(i+1,len(klist)):#code to find out min in list\n",
    "        if klist[j]<klist[min_index]:\n",
    "            min_index=j\n",
    "    klist[i],klist[min_index]=klist[min_index],klist[i]\n",
    "print(klist)"
   ]
  },
  {
   "cell_type": "code",
   "execution_count": 12,
   "id": "0b5cc6a2",
   "metadata": {},
   "outputs": [
    {
     "name": "stdout",
     "output_type": "stream",
     "text": [
      "[56, 3, 2, 78, 6, 6, 43, 89, 3, 0]\n",
      "[0, 2, 3, 3, 6, 6, 43, 56, 78, 89]\n"
     ]
    }
   ],
   "source": [
    "klist=[56,3,2,78,6,6,43,89,3,0]\n",
    "print(klist)\n",
    "for i in range(len(klist)):\n",
    "    minval=klist[i]\n",
    "    for j in range(i+1,len(klist)):#code to find out min in list\n",
    "        if klist[j]<minval:\n",
    "            minval=klist[j]\n",
    "    min_index=klist.index(minval,i)\n",
    "    if klist[i]!=klist[min_index]:\n",
    "        klist[i],klist[min_index]=klist[min_index],klist[i]\n",
    "print(klist)"
   ]
  },
  {
   "cell_type": "code",
   "execution_count": 3,
   "id": "105e70bc",
   "metadata": {},
   "outputs": [],
   "source": [
    "#temp=list1[0]\n",
    "#list1[0]=list1[min_index]\n",
    "#list1[min_indexn_index]=temp"
   ]
  },
  {
   "cell_type": "code",
   "execution_count": null,
   "id": "b26afb11",
   "metadata": {},
   "outputs": [],
   "source": []
  }
 ],
 "metadata": {
  "kernelspec": {
   "display_name": "Python 3 (ipykernel)",
   "language": "python",
   "name": "python3"
  },
  "language_info": {
   "codemirror_mode": {
    "name": "ipython",
    "version": 3
   },
   "file_extension": ".py",
   "mimetype": "text/x-python",
   "name": "python",
   "nbconvert_exporter": "python",
   "pygments_lexer": "ipython3",
   "version": "3.8.12"
  }
 },
 "nbformat": 4,
 "nbformat_minor": 5
}
